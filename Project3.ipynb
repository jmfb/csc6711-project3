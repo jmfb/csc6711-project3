{
 "cells": [
  {
   "cell_type": "markdown",
   "id": "6129179e-ae40-43f1-a38f-17777e335cec",
   "metadata": {},
   "source": [
    "# CSC6711 Project 3 - Non-Personalized Recommendations\n",
    "\n",
    "* **Author**: Jacob Buysse\n",
    "\n",
    "This notebook is an analysis of the non-personalized predictions from the 4 datasets from Project 2 and how good they are at predicing the individual users actual ratings.  The files are located in the `datasets` subdirectory:\n",
    "* MovieLens - `movielens_25m.feather` (Movies)\n",
    "* Netflix Prize - `netflix_prize.feather` (Movies and TV Shows)\n",
    "* Yahoo! Music R2 - `yahoo_r2_songs.subsampled.feather` (Songs)\n",
    "* BoardGameGeek - `boardgamegeek.feather` (Board Games)\n",
    "\n",
    "We will be using the following libraries:"
   ]
  },
  {
   "cell_type": "code",
   "execution_count": 1,
   "id": "a5c0f8c7-2a0e-4e0c-9d64-4b91b60cb27d",
   "metadata": {},
   "outputs": [],
   "source": [
    "import numpy as np\n",
    "import pandas as pd\n",
    "import seaborn as sns\n",
    "import matplotlib\n",
    "import matplotlib.pyplot as plt"
   ]
  },
  {
   "cell_type": "markdown",
   "id": "a27cd8bb-12e2-4f6f-9375-f024d158d28f",
   "metadata": {},
   "source": [
    "Let us configure matplotlib for readable labels, high resolution, and automatic layout."
   ]
  },
  {
   "cell_type": "code",
   "execution_count": 2,
   "id": "64144893-b7c8-4b65-9ce6-f45b8c9542f0",
   "metadata": {},
   "outputs": [],
   "source": [
    "matplotlib.rc('axes', labelsize=16)\n",
    "matplotlib.rc('figure', dpi=150, autolayout=True)"
   ]
  },
  {
   "cell_type": "markdown",
   "id": "f9e67e96-9312-4478-b079-0779be6a169d",
   "metadata": {},
   "source": [
    "## Datasets\n",
    "\n",
    "Let us load the databases using Pandas.  We know from Project 2 that the contents are structured identically:\n",
    "\n",
    "* `df1` - MovieLens\n",
    "* `df2` - Netflix\n",
    "* `df3` - Yahoo Music\n",
    "* `df4` - BoardGameGeek\n",
    "\n",
    "In each file, we have `item_id`, `user_id`, and `rating`."
   ]
  },
  {
   "cell_type": "code",
   "execution_count": 3,
   "id": "6d655ddf-64b5-434b-a1dc-72e17e2fec7f",
   "metadata": {},
   "outputs": [],
   "source": [
    "df1 = pd.read_feather('./datasets/movielens_25m.feather')\n",
    "df2 = pd.read_feather('./datasets/netflix_prize.feather')\n",
    "df3 = pd.read_feather('./datasets/yahoo_r2_songs.subsampled.feather')\n",
    "df4 = pd.read_feather('./datasets/boardgamegeek.feather')"
   ]
  },
  {
   "cell_type": "code",
   "execution_count": 4,
   "id": "704ce56a-885d-4662-939d-0604bc73ed4b",
   "metadata": {},
   "outputs": [
    {
     "name": "stdout",
     "output_type": "stream",
     "text": [
      "<class 'pandas.core.frame.DataFrame'>\n",
      "Index: 24890583 entries, 0 to 25000094\n",
      "Data columns (total 3 columns):\n",
      " #   Column   Dtype  \n",
      "---  ------   -----  \n",
      " 0   item_id  int64  \n",
      " 1   user_id  int64  \n",
      " 2   rating   float64\n",
      "dtypes: float64(1), int64(2)\n",
      "memory usage: 759.6 MB\n",
      "\n",
      "<class 'pandas.core.frame.DataFrame'>\n",
      "RangeIndex: 51031355 entries, 0 to 51031354\n",
      "Data columns (total 3 columns):\n",
      " #   Column   Dtype\n",
      "---  ------   -----\n",
      " 0   item_id  int64\n",
      " 1   user_id  int64\n",
      " 2   rating   int64\n",
      "dtypes: int64(3)\n",
      "memory usage: 1.1 GB\n",
      "\n",
      "<class 'pandas.core.frame.DataFrame'>\n",
      "Index: 6937275 entries, 35 to 1999917\n",
      "Data columns (total 3 columns):\n",
      " #   Column   Dtype\n",
      "---  ------   -----\n",
      " 0   user_id  int64\n",
      " 1   item_id  int64\n",
      " 2   rating   int64\n",
      "dtypes: int64(3)\n",
      "memory usage: 211.7 MB\n",
      "\n",
      "<class 'pandas.core.frame.DataFrame'>\n",
      "RangeIndex: 18942215 entries, 0 to 18942214\n",
      "Data columns (total 3 columns):\n",
      " #   Column   Dtype  \n",
      "---  ------   -----  \n",
      " 0   item_id  int64  \n",
      " 1   user_id  object \n",
      " 2   rating   float64\n",
      "dtypes: float64(1), int64(1), object(1)\n",
      "memory usage: 433.6+ MB\n"
     ]
    }
   ],
   "source": [
    "df1.info()\n",
    "print(\"\")\n",
    "df2.info()\n",
    "print(\"\")\n",
    "df3.info()\n",
    "print(\"\")\n",
    "df4.info()"
   ]
  },
  {
   "cell_type": "code",
   "execution_count": null,
   "id": "5b7cb941-0cb9-441a-bddf-ea791bee7d7d",
   "metadata": {},
   "outputs": [],
   "source": []
  }
 ],
 "metadata": {
  "kernelspec": {
   "display_name": "Python 3 (ipykernel)",
   "language": "python",
   "name": "python3"
  },
  "language_info": {
   "codemirror_mode": {
    "name": "ipython",
    "version": 3
   },
   "file_extension": ".py",
   "mimetype": "text/x-python",
   "name": "python",
   "nbconvert_exporter": "python",
   "pygments_lexer": "ipython3",
   "version": "3.12.5"
  }
 },
 "nbformat": 4,
 "nbformat_minor": 5
}
